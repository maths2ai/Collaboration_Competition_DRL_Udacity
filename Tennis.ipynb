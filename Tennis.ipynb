{
 "cells": [
  {
   "cell_type": "markdown",
   "metadata": {},
   "source": [
    "# Collaboration and Competition\n",
    "\n",
    "---\n",
    "\n",
    "You are welcome to use this coding environment to train your agent for the project.  Follow the instructions below to get started!\n",
    "\n",
    "### 1. Start the Environment\n",
    "\n",
    "Run the next code cell to install a few packages.  This line will take a few minutes to run!"
   ]
  },
  {
   "cell_type": "code",
   "execution_count": 1,
   "metadata": {},
   "outputs": [
    {
     "name": "stdout",
     "output_type": "stream",
     "text": [
      "\u001b[31mtensorflow 1.7.1 has requirement numpy>=1.13.3, but you'll have numpy 1.12.1 which is incompatible.\u001b[0m\r\n",
      "\u001b[31mipython 6.5.0 has requirement prompt-toolkit<2.0.0,>=1.0.15, but you'll have prompt-toolkit 3.0.7 which is incompatible.\u001b[0m\r\n"
     ]
    }
   ],
   "source": [
    "!pip -q install ./python"
   ]
  },
  {
   "cell_type": "markdown",
   "metadata": {},
   "source": [
    "The environment is already saved in the Workspace and can be accessed at the file path provided below. "
   ]
  },
  {
   "cell_type": "code",
   "execution_count": 2,
   "metadata": {},
   "outputs": [
    {
     "name": "stderr",
     "output_type": "stream",
     "text": [
      "INFO:unityagents:\n",
      "'Academy' started successfully!\n",
      "Unity Academy name: Academy\n",
      "        Number of Brains: 1\n",
      "        Number of External Brains : 1\n",
      "        Lesson number : 0\n",
      "        Reset Parameters :\n",
      "\t\t\n",
      "Unity brain name: TennisBrain\n",
      "        Number of Visual Observations (per agent): 0\n",
      "        Vector Observation space type: continuous\n",
      "        Vector Observation space size (per agent): 8\n",
      "        Number of stacked Vector Observation: 3\n",
      "        Vector Action space type: continuous\n",
      "        Vector Action space size (per agent): 2\n",
      "        Vector Action descriptions: , \n"
     ]
    }
   ],
   "source": [
    "from unityagents import UnityEnvironment\n",
    "import numpy as np\n",
    "\n",
    "env = UnityEnvironment(file_name=\"/data/Tennis_Linux_NoVis/Tennis\")"
   ]
  },
  {
   "cell_type": "markdown",
   "metadata": {},
   "source": [
    "Environments contain **_brains_** which are responsible for deciding the actions of their associated agents. Here we check for the first brain available, and set it as the default brain we will be controlling from Python."
   ]
  },
  {
   "cell_type": "code",
   "execution_count": 3,
   "metadata": {},
   "outputs": [],
   "source": [
    "# get the default brain\n",
    "brain_name = env.brain_names[0]\n",
    "brain = env.brains[brain_name]"
   ]
  },
  {
   "cell_type": "markdown",
   "metadata": {},
   "source": [
    "### 2. Examine the State and Action Spaces\n",
    "\n",
    "Run the code cell below to print some information about the environment."
   ]
  },
  {
   "cell_type": "code",
   "execution_count": 4,
   "metadata": {},
   "outputs": [
    {
     "name": "stdout",
     "output_type": "stream",
     "text": [
      "Number of agents: 2\n",
      "Size of each action: 2\n",
      "[[ 0.          0.          0.          0.          0.          0.          0.\n",
      "   0.          0.          0.          0.          0.          0.          0.\n",
      "   0.          0.         -6.65278625 -1.5        -0.          0.\n",
      "   6.83172083  6.         -0.          0.        ]\n",
      " [ 0.          0.          0.          0.          0.          0.          0.\n",
      "   0.          0.          0.          0.          0.          0.          0.\n",
      "   0.          0.         -6.4669857  -1.5         0.          0.\n",
      "  -6.83172083  6.          0.          0.        ]]\n",
      "There are 2 agents. Each observes a state with length: 24\n",
      "The state for the first agent looks like: [ 0.          0.          0.          0.          0.          0.          0.\n",
      "  0.          0.          0.          0.          0.          0.          0.\n",
      "  0.          0.         -6.65278625 -1.5        -0.          0.\n",
      "  6.83172083  6.         -0.          0.        ]\n"
     ]
    }
   ],
   "source": [
    "# reset the environment\n",
    "env_info = env.reset(train_mode=True)[brain_name]\n",
    "\n",
    "# number of agents \n",
    "num_agents = len(env_info.agents)\n",
    "print('Number of agents:', num_agents)\n",
    "\n",
    "# size of each action\n",
    "action_size = brain.vector_action_space_size\n",
    "print('Size of each action:', action_size)\n",
    "\n",
    "# examine the state space \n",
    "states = env_info.vector_observations\n",
    "print(states)\n",
    "state_size = states.shape[1]\n",
    "print('There are {} agents. Each observes a state with length: {}'.format(states.shape[0], state_size))\n",
    "print('The state for the first agent looks like:', states[0])"
   ]
  },
  {
   "cell_type": "markdown",
   "metadata": {},
   "source": [
    "### 3. Take Random Actions in the Environment\n",
    "\n",
    "In the next code cell, you will learn how to use the Python API to control the agent and receive feedback from the environment.\n",
    "\n",
    "Note that **in this coding environment, you will not be able to watch the agents while they are training**, and you should set `train_mode=True` to restart the environment."
   ]
  },
  {
   "cell_type": "code",
   "execution_count": 5,
   "metadata": {},
   "outputs": [
    {
     "name": "stdout",
     "output_type": "stream",
     "text": [
      "(2, 2)\n",
      "float64\n",
      "(2, 2)\n",
      "float64\n",
      "(2, 2)\n",
      "float64\n",
      "(2, 2)\n",
      "float64\n",
      "(2, 2)\n",
      "float64\n",
      "(2, 2)\n",
      "float64\n",
      "(2, 2)\n",
      "float64\n",
      "(2, 2)\n",
      "float64\n",
      "(2, 2)\n",
      "float64\n",
      "(2, 2)\n",
      "float64\n",
      "(2, 2)\n",
      "float64\n",
      "(2, 2)\n",
      "float64\n",
      "(2, 2)\n",
      "float64\n",
      "(2, 2)\n",
      "float64\n",
      "(2, 2)\n",
      "float64\n",
      "Total score (averaged over agents) this episode: -0.004999999888241291\n",
      "(2, 2)\n",
      "float64\n",
      "(2, 2)\n",
      "float64\n",
      "(2, 2)\n",
      "float64\n",
      "(2, 2)\n",
      "float64\n",
      "(2, 2)\n",
      "float64\n",
      "(2, 2)\n",
      "float64\n",
      "(2, 2)\n",
      "float64\n",
      "(2, 2)\n",
      "float64\n",
      "(2, 2)\n",
      "float64\n",
      "(2, 2)\n",
      "float64\n",
      "(2, 2)\n",
      "float64\n",
      "(2, 2)\n",
      "float64\n",
      "(2, 2)\n",
      "float64\n",
      "(2, 2)\n",
      "float64\n",
      "(2, 2)\n",
      "float64\n",
      "Total score (averaged over agents) this episode: -0.004999999888241291\n",
      "(2, 2)\n",
      "float64\n",
      "(2, 2)\n",
      "float64\n",
      "(2, 2)\n",
      "float64\n",
      "(2, 2)\n",
      "float64\n",
      "(2, 2)\n",
      "float64\n",
      "(2, 2)\n",
      "float64\n",
      "(2, 2)\n",
      "float64\n",
      "(2, 2)\n",
      "float64\n",
      "(2, 2)\n",
      "float64\n",
      "(2, 2)\n",
      "float64\n",
      "(2, 2)\n",
      "float64\n",
      "(2, 2)\n",
      "float64\n",
      "(2, 2)\n",
      "float64\n",
      "(2, 2)\n",
      "float64\n",
      "Total score (averaged over agents) this episode: -0.004999999888241291\n",
      "(2, 2)\n",
      "float64\n",
      "(2, 2)\n",
      "float64\n",
      "(2, 2)\n",
      "float64\n",
      "(2, 2)\n",
      "float64\n",
      "(2, 2)\n",
      "float64\n",
      "(2, 2)\n",
      "float64\n",
      "(2, 2)\n",
      "float64\n",
      "(2, 2)\n",
      "float64\n",
      "(2, 2)\n",
      "float64\n",
      "(2, 2)\n",
      "float64\n",
      "(2, 2)\n",
      "float64\n",
      "(2, 2)\n",
      "float64\n",
      "(2, 2)\n",
      "float64\n",
      "(2, 2)\n",
      "float64\n",
      "Total score (averaged over agents) this episode: -0.004999999888241291\n",
      "(2, 2)\n",
      "float64\n",
      "(2, 2)\n",
      "float64\n",
      "(2, 2)\n",
      "float64\n",
      "(2, 2)\n",
      "float64\n",
      "(2, 2)\n",
      "float64\n",
      "(2, 2)\n",
      "float64\n",
      "(2, 2)\n",
      "float64\n",
      "(2, 2)\n",
      "float64\n",
      "(2, 2)\n",
      "float64\n",
      "(2, 2)\n",
      "float64\n",
      "(2, 2)\n",
      "float64\n",
      "(2, 2)\n",
      "float64\n",
      "(2, 2)\n",
      "float64\n",
      "(2, 2)\n",
      "float64\n",
      "(2, 2)\n",
      "float64\n",
      "(2, 2)\n",
      "float64\n",
      "Total score (averaged over agents) this episode: -0.004999999888241291\n"
     ]
    }
   ],
   "source": [
    "for i in range(5):                                         # play game for 5 episodes\n",
    "    env_info = env.reset(train_mode=False)[brain_name]     # reset the environment    \n",
    "    states = env_info.vector_observations                  # get the current state (for each agent)\n",
    "    scores = np.zeros(num_agents)                          # initialize the score (for each agent)\n",
    "    while True:\n",
    "        actions = np.random.randn(num_agents, action_size) # select an action (for each agent)\n",
    "        print(actions.shape)\n",
    "        print(actions.dtype)\n",
    "        actions = np.clip(actions, -1, 1)                  # all actions between -1 and 1\n",
    "        env_info = env.step(actions)[brain_name]           # send all actions to tne environment\n",
    "        next_states = env_info.vector_observations         # get next state (for each agent)\n",
    "        rewards = env_info.rewards                         # get reward (for each agent)\n",
    "        \n",
    "        dones = env_info.local_done                        # see if episode finished\n",
    "        scores += env_info.rewards                         # update the score (for each agent)\n",
    "\n",
    "        states = next_states                               # roll over states to next time step\n",
    "        if np.any(dones):                                  # exit loop if episode finished\n",
    "            break\n",
    "    print('Total score (averaged over agents) this episode: {}'.format(np.mean(scores)))"
   ]
  },
  {
   "cell_type": "markdown",
   "metadata": {},
   "source": [
    "When finished, you can close the environment."
   ]
  },
  {
   "cell_type": "code",
   "execution_count": null,
   "metadata": {},
   "outputs": [],
   "source": [
    "env.close()"
   ]
  },
  {
   "cell_type": "markdown",
   "metadata": {},
   "source": [
    "### 4. It's Your Turn!\n",
    "\n",
    "Now it's your turn to train your own agent to solve the environment!  A few **important notes**:\n",
    "- When training the environment, set `train_mode=True`, so that the line for resetting the environment looks like the following:\n",
    "```python\n",
    "env_info = env.reset(train_mode=True)[brain_name]\n",
    "```\n",
    "- To structure your work, you're welcome to work directly in this Jupyter notebook, or you might like to start over with a new file!  You can see the list of files in the workspace by clicking on **_Jupyter_** in the top left corner of the notebook.\n",
    "- In this coding environment, you will not be able to watch the agents while they are training.  However, **_after training the agents_**, you can download the saved model weights to watch the agents on your own machine! "
   ]
  },
  {
   "cell_type": "code",
   "execution_count": 19,
   "metadata": {},
   "outputs": [],
   "source": [
    "# Importing section\n",
    "\n",
    "import torch\n",
    "import torch.nn as nn\n",
    "import torch.nn.functional as F\n",
    "import torch.optim as optim\n",
    "\n",
    "import random\n",
    "import numpy as np\n",
    "import copy\n",
    "\n",
    "from collections import deque"
   ]
  },
  {
   "cell_type": "markdown",
   "metadata": {},
   "source": [
    "# Device Section"
   ]
  },
  {
   "cell_type": "code",
   "execution_count": 20,
   "metadata": {},
   "outputs": [],
   "source": [
    "device = torch.device('cuda:0' if torch.cuda.is_available() else 'cpu')"
   ]
  },
  {
   "cell_type": "markdown",
   "metadata": {},
   "source": [
    "# Hyper - parameters"
   ]
  },
  {
   "cell_type": "code",
   "execution_count": 21,
   "metadata": {},
   "outputs": [],
   "source": [
    "BUFFER_SIZE = int(1e5)  \n",
    "BATCH_SIZE = 128        \n",
    "GAMMA = 0.99            \n",
    "TAU = 1e-2              \n",
    "LR_ACTOR = 1e-4         \n",
    "LR_CRITIC = 1e-3        \n",
    "WEIGHT_DECAY = 0.0000   \n",
    "UPDATE_FREQUENCY = 1\n",
    "NUM_UPDATES = 1"
   ]
  },
  {
   "cell_type": "markdown",
   "metadata": {},
   "source": [
    "# Buffer Class"
   ]
  },
  {
   "cell_type": "code",
   "execution_count": 22,
   "metadata": {},
   "outputs": [],
   "source": [
    "class Replay_Buffer():\n",
    "    def __init__(self, capacity, batch_size, seed):\n",
    "        self.capacity = capacity\n",
    "        self.batch_size = batch_size\n",
    "        self.seed = random.seed(seed)\n",
    "        self.buffer = deque(maxlen = self.capacity)\n",
    "        return\n",
    "    \n",
    "    def add(self, state, action, reward, next_state, is_done):\n",
    "        state_0 = state[0]\n",
    "        state_1 = state[1]\n",
    "        action_0 = action[0]\n",
    "        action_1 = action[1]\n",
    "        reward_0 = reward[0]\n",
    "        #print('reward first player ', reward_0)\n",
    "        reward_1 = reward[1]\n",
    "        #print('reward second player ', reward_1)\n",
    "        next_state_0 = next_state[0]\n",
    "        next_state_1 = next_state[1]\n",
    "        is_done_0 = is_done[0]\n",
    "        is_done_1 = is_done[1]\n",
    "        \n",
    "        self.buffer.append((state_0, action_0, reward_0, next_state_0, is_done_0))\n",
    "        self.buffer.append((state_1, action_1, reward_1, next_state_1, is_done_1))\n",
    "        return\n",
    "    \n",
    "    def sample(self):\n",
    "        batch = random.sample(self.buffer, k = self.batch_size)\n",
    "        \n",
    "        states, actions, rewards, next_states, is_dones = zip(*batch)\n",
    "        \n",
    "        states = torch.FloatTensor(states).view(self.batch_size, -1).to(device)\n",
    "        actions = torch.FloatTensor(actions).view(self.batch_size, -1).to(device)\n",
    "        rewards = torch.FloatTensor(rewards).view(self.batch_size, -1).to(device)\n",
    "        next_states = torch.FloatTensor(next_states).view(self.batch_size, -1).to(device)\n",
    "        is_dones = torch.FloatTensor(np.float32(is_dones)).view(self.batch_size, -1).to(device)\n",
    "        \n",
    "        return (states, actions, rewards, next_states, is_dones)\n",
    "    \n",
    "    def __len__(self):\n",
    "        return len(self.buffer)    "
   ]
  },
  {
   "cell_type": "markdown",
   "metadata": {},
   "source": [
    "# Noise"
   ]
  },
  {
   "cell_type": "code",
   "execution_count": 25,
   "metadata": {},
   "outputs": [],
   "source": [
    "class OUNoise():\n",
    "    def __init__(self, size, seed = 10, mu = 0., theta = 0.1, sigma =0.02):\n",
    "        self.mu = mu * np.ones(size)\n",
    "        self.theta = theta\n",
    "        self.sigma = sigma\n",
    "        self.seed = random.seed(seed)\n",
    "        self.reset()\n",
    "        return\n",
    "    \n",
    "    def reset(self):\n",
    "        self.state = copy.copy(self.mu)\n",
    "\n",
    "    def sample(self):\n",
    "        x = self.state\n",
    "        dx = self.theta * (self.mu - x) + self.sigma * np.array([random.random() for i in range(len(x))])\n",
    "        self.state = x + dx\n",
    "        return self.state"
   ]
  },
  {
   "cell_type": "markdown",
   "metadata": {},
   "source": [
    "# Nets"
   ]
  },
  {
   "cell_type": "code",
   "execution_count": 36,
   "metadata": {},
   "outputs": [],
   "source": [
    "class Actor(nn.Module):\n",
    "    def __init__(self, input_size, hidden_sizes, output_size, seed):\n",
    "        super (Actor, self).__init__()\n",
    "        self.seed = torch.manual_seed(seed)\n",
    "        self.input_size = input_size\n",
    "        self.output_size = output_size\n",
    "        self.hidden_sizes = hidden_sizes\n",
    "        \n",
    "        self.Linear_1 = nn.Linear(self.input_size, self.hidden_sizes[0])\n",
    "        self.Linear_2 = nn.Linear(self.hidden_sizes[0], self.hidden_sizes[1])\n",
    "        self.Linear_3 = nn.Linear(self.hidden_sizes[1], self.output_size)\n",
    "        self.bn0 = nn.BatchNorm1d(self.input_size)\n",
    "        self.bn1 = nn.BatchNorm1d(self.hidden_sizes[0])\n",
    "        self.bn2 = nn.BatchNorm1d(self.hidden_sizes[1])\n",
    "        \n",
    "        self.relu = nn.ReLU()\n",
    "        \n",
    "        self.reset_parameters()\n",
    "        return\n",
    "    \n",
    "    def reset_parameters(self):\n",
    "        # This is useful to initialize parameters\n",
    "        normalization_factor_1 = self.Linear_1.weight.data.size()[0]\n",
    "        value_1 = 1. / np.sqrt(normalization_factor_1)\n",
    "        self.Linear_1.weight.data.uniform_(-value_1, value_1)\n",
    "        \n",
    "        normalization_factor_2 = self.Linear_2.weight.data.size()[0]\n",
    "        value_2 = 1. / np.sqrt(normalization_factor_2)\n",
    "        self.Linear_2.weight.data.uniform_(-value_2, value_2)\n",
    "        \n",
    "        self.Linear_3.weight.data.uniform_(-3e-3, 3e-3)\n",
    "        return\n",
    "    \n",
    "    def forward(self, state):\n",
    "        state = self.bn0(state)\n",
    "        state = self.relu(self.bn1(self.Linear_1(state)))\n",
    "        state = self.relu(self.bn2(self.Linear_2(state)))\n",
    "        actions = F.tanh(self.Linear_3(state))\n",
    "        return actions\n",
    "        \n",
    "class Critic(nn.Module):\n",
    "    def __init__(self, input_size, hidden_sizes, output_size, seed):\n",
    "        super(Critic, self).__init__()\n",
    "        self.seed = torch.manual_seed(seed)\n",
    "        self.input_size = input_size\n",
    "        self.output_size = output_size\n",
    "        self.hidden_sizes = hidden_sizes\n",
    "            \n",
    "        self.Linear_1 = nn.Linear(self.input_size, self.hidden_sizes[0])\n",
    "        self.Linear_2 = nn.Linear(self.hidden_sizes[0] + self.output_size, self.hidden_sizes[1])\n",
    "        #self.Linear_3 = nn.Linear(self.hidden_sizes[1], self.hidden_sizes[2])\n",
    "        self.Linear_4 = nn.Linear(self.hidden_sizes[1], 1)\n",
    "            \n",
    "        # CHECK! NOTICE HERE THEY USE LEAKY RELU\n",
    "        self.relu = nn.ReLU()\n",
    "            \n",
    "        self.reset_parameters()\n",
    "        return\n",
    "            \n",
    "    def reset_parameters(self):\n",
    "        normalization_factor_1 = self.Linear_1.weight.data.size()[0]\n",
    "        value_1 = 1. / np.sqrt(normalization_factor_1)\n",
    "        self.Linear_1.weight.data.uniform_(-value_1, value_1)\n",
    "        \n",
    "        normalization_factor_2 = self.Linear_2.weight.data.size()[0]\n",
    "        value_2 = 1. / np.sqrt(normalization_factor_2)\n",
    "        self.Linear_2.weight.data.uniform_(-value_2, value_2)\n",
    "            \n",
    "        #normalization_factor_3 = self.Linear_3.weight.data.size()[0]\n",
    "        #value_3 = 1. / np.sqrt(normalization_factor_3)\n",
    "        #self.Linear_2.weight.data.uniform_(-value_3, value_3)\n",
    "        \n",
    "        self.Linear_4.weight.data.uniform_(-3e-3, 3e-3)\n",
    "        return\n",
    "        \n",
    "    def forward(self, state, action):\n",
    "        state = F.leaky_relu(self.Linear_1(state))\n",
    "        state_action = torch.cat((state, action), dim = 1)\n",
    "        state = F.leaky_relu(self.Linear_2(state_action))\n",
    "        #state = F.leaky_relu(self.Linear_3(state))\n",
    "        state = self.Linear_4(state)\n",
    "            \n",
    "        return state       "
   ]
  },
  {
   "cell_type": "markdown",
   "metadata": {},
   "source": [
    "# Agent"
   ]
  },
  {
   "cell_type": "code",
   "execution_count": 37,
   "metadata": {},
   "outputs": [],
   "source": [
    "class Agent():\n",
    "    def __init__(self, input_size, output_size, hidden_sizes_actor, hidden_sizes_critic, random_seed):\n",
    "        \n",
    "        self.input_size = input_size\n",
    "        self.output_size = output_size\n",
    "        self.hidden_sizes_actor = hidden_sizes_actor\n",
    "        self.hidden_sizes_critic = hidden_sizes_critic\n",
    "        self.seed = random.seed(random_seed)\n",
    "        \n",
    "        # Notice. It is not important to initialize the actor and the critic targets since by default actor and actor_tg, and similarly critic and critic_tg,\n",
    "        # have the same weights\n",
    "        self.actor = Actor(self.input_size, self.hidden_sizes_actor, self.output_size, random_seed).to(device)\n",
    "        self.actor_tg = Actor(self.input_size, self.hidden_sizes_actor, self.output_size, random_seed).to(device)\n",
    "        \n",
    "        self.critic = Critic(self.input_size, self.hidden_sizes_critic, self.output_size, random_seed).to(device)\n",
    "        self.critic_tg = Critic(self.input_size, self.hidden_sizes_critic, self.output_size, random_seed).to(device)\n",
    "        \n",
    "        self.actor_optimizer = optim.Adam (self.actor.parameters(), lr = LR_ACTOR)\n",
    "        self.critic_optimizer = optim.Adam (self.critic.parameters(), lr = LR_CRITIC)\n",
    "        \n",
    "        self.noise = OUNoise(self.output_size, random_seed)\n",
    "        self.buffer = Replay_Buffer(BUFFER_SIZE, BATCH_SIZE, random_seed)\n",
    "    \n",
    "    def act(self, state, parameter_noise = True):\n",
    "        state = torch.FloatTensor(state).to(device)\n",
    "        self.actor.eval()\n",
    "        \n",
    "        with torch.no_grad():\n",
    "            action = self.actor(state).cpu().data.numpy()\n",
    "        \n",
    "        self.actor.train()\n",
    "        \n",
    "        if parameter_noise == True:\n",
    "            action += self.noise.sample()\n",
    "            \n",
    "        return  np.clip(action, -1, 1)\n",
    "    \n",
    "    def reset(self):\n",
    "        self.noise.reset()\n",
    "        \n",
    "    def step(self, state, action, reward, next_state, is_done, count):\n",
    "        self.buffer.add(state, action, reward, next_state, is_done)\n",
    "    \n",
    "        if (len(self.buffer) > BATCH_SIZE) and (count % UPDATE_FREQUENCY == 0):\n",
    "            policy_loss = 0\n",
    "            critic_loss = 0\n",
    "            \n",
    "            for i in range(NUM_UPDATES):\n",
    "                batch = self.buffer.sample()\n",
    "                policy_loss_temp, critic_loss_temp = self.learn(batch, GAMMA)\n",
    "                \n",
    "                policy_loss += policy_loss_temp\n",
    "                critic_loss += critic_loss_temp\n",
    "            \n",
    "            return policy_loss, critic_loss\n",
    "        return 0, 0\n",
    "    \n",
    "    def learn(self, batch, gamma):\n",
    "        states = batch[0]\n",
    "        actions = batch[1]\n",
    "        rewards = batch[2]\n",
    "        next_states = batch[3]\n",
    "        is_dones = batch[4]\n",
    "        \n",
    "        # UPDATING CRITIC\n",
    "        \n",
    "        # Target Values of the Critic\n",
    "        \n",
    "        next_actions = self.actor_tg(next_states)\n",
    "        Q_next_states = self.critic_tg(next_states, next_actions)\n",
    "        Q_targets = rewards + GAMMA * Q_next_states * (1.0 - is_dones)\n",
    "        \n",
    "        # Q_values \n",
    "        \n",
    "        Q_values = self.critic(states, actions)\n",
    "        critic_loss = F.mse_loss(Q_targets.detach(), Q_values)\n",
    "        \n",
    "        # Updates\n",
    "        \n",
    "        self.critic_optimizer.zero_grad()\n",
    "        critic_loss.backward()\n",
    "        torch.nn.utils.clip_grad_norm_(self.critic.parameters(), 1)\n",
    "        self.critic_optimizer.step()\n",
    "        \n",
    "        # UPDATING POLICY\n",
    "        \n",
    "        actions_pred = self.actor(states)\n",
    "        Q = self.critic(states, actions_pred)\n",
    "        policy_loss = -Q.mean()\n",
    "        \n",
    "        self.actor_optimizer.zero_grad()\n",
    "        torch.nn.utils.clip_grad_norm_(self.actor.parameters(), 1)\n",
    "        policy_loss.backward()\n",
    "        self.actor_optimizer.step()\n",
    "        \n",
    "        # SOFT_UPDATE\n",
    "        \n",
    "        self.soft_update(self.actor, self.actor_tg, TAU)\n",
    "        self.soft_update(self.critic, self.critic_tg, TAU)\n",
    "        \n",
    "        return policy_loss, critic_loss\n",
    "        \n",
    "    def soft_update(self, net, net_tg, TAU):\n",
    "        \n",
    "        for target_param, local_param in zip(net_tg.parameters(), net.parameters()):\n",
    "            target_param.data.copy_(TAU*local_param.data + (1.0-TAU)*target_param.data)\n",
    "            \n",
    "        return\n"
   ]
  },
  {
   "cell_type": "markdown",
   "metadata": {},
   "source": [
    "# Instatiating the object"
   ]
  },
  {
   "cell_type": "code",
   "execution_count": 38,
   "metadata": {},
   "outputs": [
    {
     "data": {
      "text/plain": [
       "8"
      ]
     },
     "execution_count": 38,
     "metadata": {},
     "output_type": "execute_result"
    }
   ],
   "source": [
    "brain.vector_observation_space_size"
   ]
  },
  {
   "cell_type": "code",
   "execution_count": 39,
   "metadata": {},
   "outputs": [],
   "source": [
    "hidden_layers_actor = [256, 128]\n",
    "hidden_layers_critic = [256, 128]\n",
    "agent = Agent(24, 2, hidden_layers_actor, hidden_layers_critic, 1)"
   ]
  },
  {
   "cell_type": "code",
   "execution_count": 20,
   "metadata": {},
   "outputs": [
    {
     "name": "stdout",
     "output_type": "stream",
     "text": [
      "0\n"
     ]
    }
   ],
   "source": [
    "agent.actor.load_state_dict(torch.load('checkpoint_actor.pth'))\n",
    "agent.critic.load_state_dict(torch.load('checkpoint_critic.pth'))\n",
    "agent.actor_tg.load_state_dict(torch.load('checkpoint_actor.pth'))\n",
    "agent.critic_tg.load_state_dict(torch.load('checkpoint_critic.pth'))\n",
    "\n",
    "print(len(agent.buffer))"
   ]
  },
  {
   "cell_type": "code",
   "execution_count": 40,
   "metadata": {},
   "outputs": [],
   "source": [
    "def main(num_episodes = 20000):\n",
    "    count = 1\n",
    "    scores = []\n",
    "    scores_deque = deque(maxlen = 100)\n",
    "    policy_losses = []\n",
    "    critic_losses = []\n",
    "    \n",
    "    for ep in range(1, num_episodes):\n",
    "\n",
    "        env_info = env.reset(train_mode = True)[brain_name]\n",
    "        states_main = env_info.vector_observations\n",
    "        score = np.zeros(2)\n",
    "        agent.reset()\n",
    "        \n",
    "        while True:\n",
    "            actions_main = agent.act(states_main) \n",
    "\n",
    "            env_info = env.step(actions_main)[brain_name]\n",
    "            next_states_main = env_info.vector_observations\n",
    "            rewards_main = env_info.rewards\n",
    "            is_dones_main = env_info.local_done\n",
    "            \n",
    "            policy_loss, critic_loss = agent.step(states_main, actions_main, rewards_main, next_states_main, is_dones_main, count)\n",
    "            \n",
    "            policy_losses.append(policy_loss)\n",
    "            critic_losses.append(critic_loss)\n",
    "            \n",
    "            score += rewards_main                     \n",
    "            states_main = next_states_main \n",
    "            \n",
    "            if np.any(is_dones_main):\n",
    "                count += 1\n",
    "                #print('score is ',score)\n",
    "                final_score = np.max(score)\n",
    "                scores.append(final_score)\n",
    "                scores_deque.append(final_score)\n",
    "                #print('The score at episode {} is {}'.format(ep, final_score))\n",
    "                break\n",
    "            \n",
    "            count += 1\n",
    "            \n",
    "        if ep % 10 == 0:\n",
    "            print('Mean last 10 episodes: ', np.mean(scores[-10:]))\n",
    "        \n",
    "        if ep % 100 == 0:\n",
    "            torch.save(agent.actor.state_dict(), 'checkpoint_actor.pth')\n",
    "            torch.save(agent.critic.state_dict(), 'checkpoint_critic.pth')\n",
    "            print('\\n### Episode {}\\tAverage Score: {:.2f} ###\\n'.format(ep, np.mean(scores_deque)))   \n",
    "\n",
    "        if len(scores_deque) == 100 and (np.mean(scores_deque) >= 0.5):\n",
    "            print('The environment was solved with average', np.mean(scores_deque))\n",
    "            torch.save(agent.actor.state_dict(), 'checkpoint_actor.pth')\n",
    "            torch.save(agent.critic.state_dict(), 'checkpoint_critic.pth')\n",
    "            return scores\n",
    "            "
   ]
  },
  {
   "cell_type": "code",
   "execution_count": 41,
   "metadata": {},
   "outputs": [
    {
     "name": "stdout",
     "output_type": "stream",
     "text": [
      "Mean last 10 episodes:  0.0\n",
      "Mean last 10 episodes:  0.010000000149\n",
      "Mean last 10 episodes:  0.010000000149\n",
      "Mean last 10 episodes:  0.030000000447\n",
      "Mean last 10 episodes:  0.0\n",
      "Mean last 10 episodes:  0.0\n",
      "Mean last 10 episodes:  0.0\n",
      "Mean last 10 episodes:  0.0\n",
      "Mean last 10 episodes:  0.010000000149\n",
      "Mean last 10 episodes:  0.010000000149\n",
      "\n",
      "### Episode 100\tAverage Score: 0.01 ###\n",
      "\n",
      "Mean last 10 episodes:  0.0\n",
      "Mean last 10 episodes:  0.0\n",
      "Mean last 10 episodes:  0.0\n",
      "Mean last 10 episodes:  0.0\n",
      "Mean last 10 episodes:  0.0\n",
      "Mean last 10 episodes:  0.0\n",
      "Mean last 10 episodes:  0.0190000003204\n",
      "Mean last 10 episodes:  0.0290000004694\n",
      "Mean last 10 episodes:  0.0570000009611\n",
      "Mean last 10 episodes:  0.030000000447\n",
      "\n",
      "### Episode 200\tAverage Score: 0.01 ###\n",
      "\n",
      "Mean last 10 episodes:  0.020000000298\n",
      "Mean last 10 episodes:  0.0900000013411\n",
      "Mean last 10 episodes:  0.0490000007674\n",
      "Mean last 10 episodes:  0.0900000013411\n",
      "Mean last 10 episodes:  0.0800000011921\n",
      "Mean last 10 episodes:  0.0600000008941\n",
      "Mean last 10 episodes:  0.040000000596\n",
      "Mean last 10 episodes:  0.0700000010431\n",
      "Mean last 10 episodes:  0.118000002019\n",
      "Mean last 10 episodes:  0.169000002556\n",
      "\n",
      "### Episode 300\tAverage Score: 0.08 ###\n",
      "\n",
      "Mean last 10 episodes:  0.0970000015572\n",
      "Mean last 10 episodes:  0.180000002682\n",
      "Mean last 10 episodes:  0.609000009112\n",
      "Mean last 10 episodes:  0.389000005834\n",
      "Mean last 10 episodes:  0.309000004642\n",
      "Mean last 10 episodes:  1.61000002399\n",
      "The environment was solved with average 0.503100007549\n"
     ]
    }
   ],
   "source": [
    "scores = main(500)"
   ]
  },
  {
   "cell_type": "code",
   "execution_count": 42,
   "metadata": {},
   "outputs": [],
   "source": [
    "import matplotlib.pyplot as plt"
   ]
  },
  {
   "cell_type": "code",
   "execution_count": 43,
   "metadata": {},
   "outputs": [
    {
     "data": {
      "image/png": "[encoded data removed]",
      "text/plain": [
       "<matplotlib.figure.Figure at 0x7f1d775b51d0>"
      ]
     },
     "metadata": {
      "needs_background": "light"
     },
     "output_type": "display_data"
    }
   ],
   "source": [
    "fig = plt.figure()\n",
    "ax = fig.add_subplot(111)\n",
    "plt.plot(np.arange(1, len(scores)+1), scores)\n",
    "plt.ylabel('Score')\n",
    "plt.xlabel('Episode #')\n",
    "plt.show()\n"
   ]
  },
  {
   "cell_type": "code",
   "execution_count": null,
   "metadata": {},
   "outputs": [],
   "source": []
  }
 ],
 "metadata": {
  "kernelspec": {
   "display_name": "Python 3",
   "language": "python",
   "name": "python3"
  },
  "language_info": {
   "codemirror_mode": {
    "name": "ipython",
    "version": 3
   },
   "file_extension": ".py",
   "mimetype": "text/x-python",
   "name": "python",
   "nbconvert_exporter": "python",
   "pygments_lexer": "ipython3",
   "version": "3.6.3"
  }
 },
 "nbformat": 4,
 "nbformat_minor": 2
}
